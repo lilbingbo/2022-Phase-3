{
 "cells": [
  {
   "cell_type": "markdown",
   "metadata": {},
   "source": [
    "# Phase 3 Data Science Training Notebook"
   ]
  },
  {
   "cell_type": "code",
   "execution_count": 1,
   "metadata": {},
   "outputs": [],
   "source": [
    "import pandas as pd\n",
    "import numpy as np"
   ]
  },
  {
   "cell_type": "markdown",
   "metadata": {},
   "source": [
    "## Exploratory Data Analysis"
   ]
  },
  {
   "cell_type": "code",
   "execution_count": 2,
   "metadata": {},
   "outputs": [],
   "source": [
    "# Assume tar.gz file to be extracted at project directory.\n",
    "def unpickle(file):\n",
    "    import pickle\n",
    "    with open(file, 'rb') as fo:\n",
    "        dict = pickle.load(fo, encoding='bytes')\n",
    "    return dict"
   ]
  },
  {
   "cell_type": "markdown",
   "metadata": {},
   "source": [
    "# Data Processing"
   ]
  },
  {
   "cell_type": "code",
   "execution_count": 3,
   "metadata": {},
   "outputs": [],
   "source": [
    "train_x = np.random.randint(0,255,size=(10000,3,32,32))\n",
    "train_y = np.random.randint(0,255,size=(10000))\n",
    "\n",
    "test_x = np.random.randint(0,255,size=(1000,3,32,32))\n",
    "test_y = np.random.randint(0,255,size=(1000))"
   ]
  },
  {
   "cell_type": "markdown",
   "metadata": {},
   "source": [
    "# Data Modelling"
   ]
  },
  {
   "cell_type": "code",
   "execution_count": 5,
   "metadata": {},
   "outputs": [],
   "source": [
    "import tensorflow as tf\n",
    "from tensorflow.keras import Input, layers, Sequential, optimizers, losses, callbacks\n",
    "from datetime import datetime"
   ]
  },
  {
   "cell_type": "code",
   "execution_count": 7,
   "metadata": {},
   "outputs": [],
   "source": [
    "def generateModel():\n",
    "    \"\"\"\n",
    "    Make a Keras Sequential Model.\n",
    "    Feel free to change the layout of the layers.\n",
    "\n",
    "    Read more about keras here: https://keras.io/api/\n",
    "    Tensorflow setup adapted here: https://www.tensorflow.org/tutorials/quickstart/beginner\n",
    "    \"\"\"\n",
    "    model = Sequential(name=\"Image_Recognition_Model\")\n",
    "    model.add(Input(shape=(3,32,32))) # Input layer.\n",
    "\n",
    "    model.add(layers.Rescaling(scale=1./255, name=\"Normaliser\")) # Example pre-processing layer.\n",
    "\n",
    "    model.add(layers.Dense(40, activation=\"relu\")) # Example Hidden Layer 1. Has 40 Nodes.\n",
    "    model.add(layers.Dense(25, activation=\"sigmoid\")) # Example Hidden Layer 2. Has 25 Nodes.\n",
    "    model.add(layers.Dense(15, activation=\"tanh\")) # Example Hidden Layer 3. Has 15 Nodes.\n",
    "\n",
    "    model.add(layers.Dense(1, activation=\"sigmoid\", name=\"Output_Probability\")) # Output layer.\n",
    "\n",
    "    model.compile(\n",
    "        optimizer=optimizers.SGD(learning_rate=0.01),\n",
    "        loss=losses.MeanAbsoluteError(),\n",
    "        metrics=['accuracy']\n",
    "    )\n",
    "\n",
    "    return model"
   ]
  },
  {
   "cell_type": "code",
   "execution_count": 8,
   "metadata": {},
   "outputs": [
    {
     "ename": "InvalidArgumentError",
     "evalue": "Failed to create a directory: output/logs/2022-08-23-20:41:38; Invalid argument [Op:CreateSummaryFileWriter]",
     "output_type": "error",
     "traceback": [
      "\u001b[1;31m---------------------------------------------------------------------------\u001b[0m",
      "\u001b[1;31mInvalidArgumentError\u001b[0m                      Traceback (most recent call last)",
      "\u001b[1;32mc:\\Users\\Boetmate\\Documents\\RoseCode\\2022-Phase-3\\data-science\\skeleton-code\\make-model.ipynb Cell 10\u001b[0m in \u001b[0;36m<cell line: 9>\u001b[1;34m()\u001b[0m\n\u001b[0;32m      <a href='vscode-notebook-cell:/c%3A/Users/Boetmate/Documents/RoseCode/2022-Phase-3/data-science/skeleton-code/make-model.ipynb#X12sZmlsZQ%3D%3D?line=5'>6</a>\u001b[0m tensorboard_callback \u001b[39m=\u001b[39m callbacks\u001b[39m.\u001b[39mTensorBoard(log_dir\u001b[39m=\u001b[39mlog_dir, histogram_freq\u001b[39m=\u001b[39m\u001b[39m1\u001b[39m)\n\u001b[0;32m      <a href='vscode-notebook-cell:/c%3A/Users/Boetmate/Documents/RoseCode/2022-Phase-3/data-science/skeleton-code/make-model.ipynb#X12sZmlsZQ%3D%3D?line=6'>7</a>\u001b[0m earlystop_callback \u001b[39m=\u001b[39m callbacks\u001b[39m.\u001b[39mEarlyStopping(monitor\u001b[39m=\u001b[39m\u001b[39m'\u001b[39m\u001b[39mval_loss\u001b[39m\u001b[39m'\u001b[39m, patience\u001b[39m=\u001b[39m\u001b[39m25\u001b[39m, restore_best_weights\u001b[39m=\u001b[39m\u001b[39mTrue\u001b[39;00m)\n\u001b[1;32m----> <a href='vscode-notebook-cell:/c%3A/Users/Boetmate/Documents/RoseCode/2022-Phase-3/data-science/skeleton-code/make-model.ipynb#X12sZmlsZQ%3D%3D?line=8'>9</a>\u001b[0m model\u001b[39m.\u001b[39;49mfit(train_x, train_y,\n\u001b[0;32m     <a href='vscode-notebook-cell:/c%3A/Users/Boetmate/Documents/RoseCode/2022-Phase-3/data-science/skeleton-code/make-model.ipynb#X12sZmlsZQ%3D%3D?line=9'>10</a>\u001b[0m     validation_data\u001b[39m=\u001b[39;49m(test_x, test_y),\n\u001b[0;32m     <a href='vscode-notebook-cell:/c%3A/Users/Boetmate/Documents/RoseCode/2022-Phase-3/data-science/skeleton-code/make-model.ipynb#X12sZmlsZQ%3D%3D?line=10'>11</a>\u001b[0m     epochs\u001b[39m=\u001b[39;49m\u001b[39m50000\u001b[39;49m,\n\u001b[0;32m     <a href='vscode-notebook-cell:/c%3A/Users/Boetmate/Documents/RoseCode/2022-Phase-3/data-science/skeleton-code/make-model.ipynb#X12sZmlsZQ%3D%3D?line=11'>12</a>\u001b[0m     batch_size\u001b[39m=\u001b[39;49m\u001b[39m1000\u001b[39;49m, \u001b[39m# Set this to a lower number if your computer spec is bad.\u001b[39;49;00m\n\u001b[0;32m     <a href='vscode-notebook-cell:/c%3A/Users/Boetmate/Documents/RoseCode/2022-Phase-3/data-science/skeleton-code/make-model.ipynb#X12sZmlsZQ%3D%3D?line=12'>13</a>\u001b[0m     callbacks\u001b[39m=\u001b[39;49m[tensorboard_callback, earlystop_callback],\n\u001b[0;32m     <a href='vscode-notebook-cell:/c%3A/Users/Boetmate/Documents/RoseCode/2022-Phase-3/data-science/skeleton-code/make-model.ipynb#X12sZmlsZQ%3D%3D?line=13'>14</a>\u001b[0m     \u001b[39m# verbose=0 # Uncomment this line to reduce the printing on console.\u001b[39;49;00m\n\u001b[0;32m     <a href='vscode-notebook-cell:/c%3A/Users/Boetmate/Documents/RoseCode/2022-Phase-3/data-science/skeleton-code/make-model.ipynb#X12sZmlsZQ%3D%3D?line=14'>15</a>\u001b[0m )\n",
      "File \u001b[1;32mc:\\Users\\Boetmate\\Documents\\RoseCode\\2022-Phase-3\\venv\\lib\\site-packages\\keras\\utils\\traceback_utils.py:67\u001b[0m, in \u001b[0;36mfilter_traceback.<locals>.error_handler\u001b[1;34m(*args, **kwargs)\u001b[0m\n\u001b[0;32m     65\u001b[0m \u001b[39mexcept\u001b[39;00m \u001b[39mException\u001b[39;00m \u001b[39mas\u001b[39;00m e:  \u001b[39m# pylint: disable=broad-except\u001b[39;00m\n\u001b[0;32m     66\u001b[0m   filtered_tb \u001b[39m=\u001b[39m _process_traceback_frames(e\u001b[39m.\u001b[39m__traceback__)\n\u001b[1;32m---> 67\u001b[0m   \u001b[39mraise\u001b[39;00m e\u001b[39m.\u001b[39mwith_traceback(filtered_tb) \u001b[39mfrom\u001b[39;00m \u001b[39mNone\u001b[39m\n\u001b[0;32m     68\u001b[0m \u001b[39mfinally\u001b[39;00m:\n\u001b[0;32m     69\u001b[0m   \u001b[39mdel\u001b[39;00m filtered_tb\n",
      "File \u001b[1;32mc:\\Users\\Boetmate\\Documents\\RoseCode\\2022-Phase-3\\venv\\lib\\site-packages\\tensorflow\\python\\framework\\ops.py:7164\u001b[0m, in \u001b[0;36mraise_from_not_ok_status\u001b[1;34m(e, name)\u001b[0m\n\u001b[0;32m   7162\u001b[0m \u001b[39mdef\u001b[39;00m \u001b[39mraise_from_not_ok_status\u001b[39m(e, name):\n\u001b[0;32m   7163\u001b[0m   e\u001b[39m.\u001b[39mmessage \u001b[39m+\u001b[39m\u001b[39m=\u001b[39m (\u001b[39m\"\u001b[39m\u001b[39m name: \u001b[39m\u001b[39m\"\u001b[39m \u001b[39m+\u001b[39m name \u001b[39mif\u001b[39;00m name \u001b[39mis\u001b[39;00m \u001b[39mnot\u001b[39;00m \u001b[39mNone\u001b[39;00m \u001b[39melse\u001b[39;00m \u001b[39m\"\u001b[39m\u001b[39m\"\u001b[39m)\n\u001b[1;32m-> 7164\u001b[0m   \u001b[39mraise\u001b[39;00m core\u001b[39m.\u001b[39m_status_to_exception(e) \u001b[39mfrom\u001b[39;00m \u001b[39mNone\u001b[39m\n",
      "\u001b[1;31mInvalidArgumentError\u001b[0m: Failed to create a directory: output/logs/2022-08-23-20:41:38; Invalid argument [Op:CreateSummaryFileWriter]"
     ]
    }
   ],
   "source": [
    "model = generateModel()\n",
    "\n",
    "log_dir = \"output/logs/\" + datetime.now().strftime(\"%Y-%m-%d-%H:%M:%S\")\n",
    "\n",
    "# Callbacks for QoL.\n",
    "tensorboard_callback = callbacks.TensorBoard(log_dir=log_dir, histogram_freq=1)\n",
    "earlystop_callback = callbacks.EarlyStopping(monitor='val_loss', patience=25, restore_best_weights=True)\n",
    "\n",
    "model.fit(train_x, train_y,\n",
    "    validation_data=(test_x, test_y),\n",
    "    epochs=50000,\n",
    "    batch_size=1000, # Set this to a lower number if your computer spec is bad.\n",
    "    callbacks=[tensorboard_callback, earlystop_callback],\n",
    "    # verbose=0 # Uncomment this line to reduce the printing on console.\n",
    ")"
   ]
  },
  {
   "cell_type": "code",
   "execution_count": null,
   "metadata": {},
   "outputs": [],
   "source": [
    "model.save('output/my_model')"
   ]
  }
 ],
 "metadata": {
  "kernelspec": {
   "display_name": "Python 3.10.5 ('venv': venv)",
   "language": "python",
   "name": "python3"
  },
  "language_info": {
   "codemirror_mode": {
    "name": "ipython",
    "version": 3
   },
   "file_extension": ".py",
   "mimetype": "text/x-python",
   "name": "python",
   "nbconvert_exporter": "python",
   "pygments_lexer": "ipython3",
   "version": "3.10.5"
  },
  "orig_nbformat": 4,
  "vscode": {
   "interpreter": {
    "hash": "b62f865163aae810949afa53e3bb08a221e0982e00464bed0586e5b11a966395"
   }
  }
 },
 "nbformat": 4,
 "nbformat_minor": 2
}
